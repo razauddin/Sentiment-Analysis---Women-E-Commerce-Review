{
 "cells": [
  {
   "cell_type": "markdown",
   "id": "1d4c8f89",
   "metadata": {},
   "source": [
    "# Group 8 Code\n",
    "\n",
    "### References\n",
    "https://jupyter.yahya14.xyz/files/CP322/Project/CP322prj2022W.pdf\n",
    "\n",
    "https://docs.google.com/document/d/1TW3mR9nN-tbLMuITZzlaCki0iNHIIerGOLUW2P7NQ_U/edit\n",
    "\n",
    "https://www.kaggle.com/nicapotato/womens-ecommerce-clothing-reviews?select=Womens+Clothing+E-Commerce+Reviews.csv"
   ]
  },
  {
   "cell_type": "code",
   "execution_count": 1,
   "id": "e88ed0bb",
   "metadata": {},
   "outputs": [],
   "source": [
    "import pandas as pd\n",
    "from sklearn.tree import DecisionTreeClassifier\n",
    "from sklearn.model_selection import train_test_split\n",
    "from sklearn.compose import make_column_transformer\n",
    "from sklearn.model_selection import KFold\n",
    "from sklearn import preprocessing\n",
    "\n",
    "raw_df = pd.read_csv('data\\Womens Clothing E-Commerce Reviews.csv', delimiter=',')\n",
    "raw_df.head(5)\n",
    "#Converting to numbers for cats\n",
    "le = preprocessing.LabelEncoder()\n",
    "ae = le.fit_transform(raw_df['Review Text'])\n",
    "be = le.fit_transform(raw_df['Title'])\n",
    "ce = le.fit_transform(raw_df['Division Name'])\n",
    "de = le.fit_transform(raw_df['Department Name'])\n",
    "ee = le.fit_transform(raw_df['Class Name'])\n",
    "\n",
    "raw_df['Review Text'] = ae\n",
    "raw_df['Title'] = be \n",
    "raw_df['Division Name'] = ce \n",
    "raw_df['Department Name'] = de\n",
    "raw_df['Class Name'] = ee\n",
    "\n",
    "\n",
    "#Reccomend IND,Title,Review Text,"
   ]
  },
  {
   "cell_type": "code",
   "execution_count": 2,
   "id": "f4e06800",
   "metadata": {},
   "outputs": [
    {
     "data": {
      "text/html": [
       "<div>\n",
       "<style scoped>\n",
       "    .dataframe tbody tr th:only-of-type {\n",
       "        vertical-align: middle;\n",
       "    }\n",
       "\n",
       "    .dataframe tbody tr th {\n",
       "        vertical-align: top;\n",
       "    }\n",
       "\n",
       "    .dataframe thead th {\n",
       "        text-align: right;\n",
       "    }\n",
       "</style>\n",
       "<table border=\"1\" class=\"dataframe\">\n",
       "  <thead>\n",
       "    <tr style=\"text-align: right;\">\n",
       "      <th></th>\n",
       "      <th>Unnamed: 0</th>\n",
       "      <th>Clothing ID</th>\n",
       "      <th>Age</th>\n",
       "      <th>Title</th>\n",
       "      <th>Review Text</th>\n",
       "      <th>Rating</th>\n",
       "      <th>Recommended IND</th>\n",
       "      <th>Positive Feedback Count</th>\n",
       "      <th>Division Name</th>\n",
       "      <th>Department Name</th>\n",
       "      <th>Class Name</th>\n",
       "    </tr>\n",
       "  </thead>\n",
       "  <tbody>\n",
       "    <tr>\n",
       "      <th>count</th>\n",
       "      <td>23486.000000</td>\n",
       "      <td>23486.000000</td>\n",
       "      <td>23486.000000</td>\n",
       "      <td>23486.000000</td>\n",
       "      <td>23486.000000</td>\n",
       "      <td>23486.000000</td>\n",
       "      <td>23486.000000</td>\n",
       "      <td>23486.000000</td>\n",
       "      <td>23486.000000</td>\n",
       "      <td>23486.000000</td>\n",
       "      <td>23486.000000</td>\n",
       "    </tr>\n",
       "    <tr>\n",
       "      <th>mean</th>\n",
       "      <td>11742.500000</td>\n",
       "      <td>918.118709</td>\n",
       "      <td>43.198544</td>\n",
       "      <td>8073.055650</td>\n",
       "      <td>11723.907008</td>\n",
       "      <td>4.196032</td>\n",
       "      <td>0.822362</td>\n",
       "      <td>2.535936</td>\n",
       "      <td>0.475432</td>\n",
       "      <td>2.360385</td>\n",
       "      <td>6.942476</td>\n",
       "    </tr>\n",
       "    <tr>\n",
       "      <th>std</th>\n",
       "      <td>6779.968547</td>\n",
       "      <td>203.298980</td>\n",
       "      <td>12.279544</td>\n",
       "      <td>4458.457431</td>\n",
       "      <td>6752.194570</td>\n",
       "      <td>1.110031</td>\n",
       "      <td>0.382216</td>\n",
       "      <td>5.702202</td>\n",
       "      <td>0.617167</td>\n",
       "      <td>1.633476</td>\n",
       "      <td>5.217702</td>\n",
       "    </tr>\n",
       "    <tr>\n",
       "      <th>min</th>\n",
       "      <td>0.000000</td>\n",
       "      <td>0.000000</td>\n",
       "      <td>18.000000</td>\n",
       "      <td>0.000000</td>\n",
       "      <td>0.000000</td>\n",
       "      <td>1.000000</td>\n",
       "      <td>0.000000</td>\n",
       "      <td>0.000000</td>\n",
       "      <td>0.000000</td>\n",
       "      <td>0.000000</td>\n",
       "      <td>0.000000</td>\n",
       "    </tr>\n",
       "    <tr>\n",
       "      <th>25%</th>\n",
       "      <td>5871.250000</td>\n",
       "      <td>861.000000</td>\n",
       "      <td>34.000000</td>\n",
       "      <td>4296.000000</td>\n",
       "      <td>5870.250000</td>\n",
       "      <td>4.000000</td>\n",
       "      <td>1.000000</td>\n",
       "      <td>0.000000</td>\n",
       "      <td>0.000000</td>\n",
       "      <td>1.000000</td>\n",
       "      <td>3.000000</td>\n",
       "    </tr>\n",
       "    <tr>\n",
       "      <th>50%</th>\n",
       "      <td>11742.500000</td>\n",
       "      <td>936.000000</td>\n",
       "      <td>41.000000</td>\n",
       "      <td>8049.500000</td>\n",
       "      <td>11740.500000</td>\n",
       "      <td>5.000000</td>\n",
       "      <td>1.000000</td>\n",
       "      <td>1.000000</td>\n",
       "      <td>0.000000</td>\n",
       "      <td>2.000000</td>\n",
       "      <td>7.000000</td>\n",
       "    </tr>\n",
       "    <tr>\n",
       "      <th>75%</th>\n",
       "      <td>17613.750000</td>\n",
       "      <td>1078.000000</td>\n",
       "      <td>52.000000</td>\n",
       "      <td>12399.750000</td>\n",
       "      <td>17606.750000</td>\n",
       "      <td>5.000000</td>\n",
       "      <td>1.000000</td>\n",
       "      <td>3.000000</td>\n",
       "      <td>1.000000</td>\n",
       "      <td>4.000000</td>\n",
       "      <td>10.000000</td>\n",
       "    </tr>\n",
       "    <tr>\n",
       "      <th>max</th>\n",
       "      <td>23485.000000</td>\n",
       "      <td>1205.000000</td>\n",
       "      <td>99.000000</td>\n",
       "      <td>13993.000000</td>\n",
       "      <td>22634.000000</td>\n",
       "      <td>5.000000</td>\n",
       "      <td>1.000000</td>\n",
       "      <td>122.000000</td>\n",
       "      <td>3.000000</td>\n",
       "      <td>6.000000</td>\n",
       "      <td>20.000000</td>\n",
       "    </tr>\n",
       "  </tbody>\n",
       "</table>\n",
       "</div>"
      ],
      "text/plain": [
       "         Unnamed: 0   Clothing ID           Age         Title   Review Text  \\\n",
       "count  23486.000000  23486.000000  23486.000000  23486.000000  23486.000000   \n",
       "mean   11742.500000    918.118709     43.198544   8073.055650  11723.907008   \n",
       "std     6779.968547    203.298980     12.279544   4458.457431   6752.194570   \n",
       "min        0.000000      0.000000     18.000000      0.000000      0.000000   \n",
       "25%     5871.250000    861.000000     34.000000   4296.000000   5870.250000   \n",
       "50%    11742.500000    936.000000     41.000000   8049.500000  11740.500000   \n",
       "75%    17613.750000   1078.000000     52.000000  12399.750000  17606.750000   \n",
       "max    23485.000000   1205.000000     99.000000  13993.000000  22634.000000   \n",
       "\n",
       "             Rating  Recommended IND  Positive Feedback Count  Division Name  \\\n",
       "count  23486.000000     23486.000000             23486.000000   23486.000000   \n",
       "mean       4.196032         0.822362                 2.535936       0.475432   \n",
       "std        1.110031         0.382216                 5.702202       0.617167   \n",
       "min        1.000000         0.000000                 0.000000       0.000000   \n",
       "25%        4.000000         1.000000                 0.000000       0.000000   \n",
       "50%        5.000000         1.000000                 1.000000       0.000000   \n",
       "75%        5.000000         1.000000                 3.000000       1.000000   \n",
       "max        5.000000         1.000000               122.000000       3.000000   \n",
       "\n",
       "       Department Name    Class Name  \n",
       "count     23486.000000  23486.000000  \n",
       "mean          2.360385      6.942476  \n",
       "std           1.633476      5.217702  \n",
       "min           0.000000      0.000000  \n",
       "25%           1.000000      3.000000  \n",
       "50%           2.000000      7.000000  \n",
       "75%           4.000000     10.000000  \n",
       "max           6.000000     20.000000  "
      ]
     },
     "execution_count": 2,
     "metadata": {},
     "output_type": "execute_result"
    }
   ],
   "source": [
    "#Information Based Models\n",
    "raw_df.describe()"
   ]
  },
  {
   "cell_type": "code",
   "execution_count": 3,
   "id": "198e95ad",
   "metadata": {},
   "outputs": [
    {
     "data": {
      "image/png": "[encoded data removed]",
      "text/plain": [
       "<Figure size 432x288 with 1 Axes>"
      ]
     },
     "metadata": {
      "needs_background": "light"
     },
     "output_type": "display_data"
    }
   ],
   "source": [
    "#Plots\n",
    "boxdf = raw_df.hist(column = \"Rating\")"
   ]
  },
  {
   "cell_type": "code",
   "execution_count": 4,
   "id": "f8a2c0fb",
   "metadata": {},
   "outputs": [
    {
     "data": {
      "image/png": "[encoded data removed]",
      "text/plain": [
       "<Figure size 432x288 with 1 Axes>"
      ]
     },
     "metadata": {
      "needs_background": "light"
     },
     "output_type": "display_data"
    }
   ],
   "source": [
    "bowdf = raw_df.hist(column = \"Age\")"
   ]
  },
  {
   "cell_type": "code",
   "execution_count": 5,
   "id": "64fffa02",
   "metadata": {},
   "outputs": [],
   "source": [
    "#Train-test split\n",
    "y = raw_df.loc[:,'Rating']\n",
    "X = raw_df.loc[:,['Unnamed: 0','Clothing ID','Age','Title','Review Text','Recommended IND','Positive Feedback Count','Division Name','Department Name','Class Name']]\n",
    "X_train,X_test,y_train,y_test = train_test_split(X,y,test_size = 0.30)\n",
    "folds = KFold(n_splits = 10, random_state = 1, shuffle = True)"
   ]
  },
  {
   "cell_type": "code",
   "execution_count": 6,
   "id": "bbdaa414",
   "metadata": {},
   "outputs": [
    {
     "data": {
      "text/plain": [
       "DecisionTreeClassifier()"
      ]
     },
     "execution_count": 6,
     "metadata": {},
     "output_type": "execute_result"
    }
   ],
   "source": [
    "d1 = DecisionTreeClassifier(criterion = 'gini')\n",
    "d1.fit(X_train, y_train)"
   ]
  },
  {
   "cell_type": "code",
   "execution_count": 7,
   "id": "5cf30de0",
   "metadata": {},
   "outputs": [
    {
     "data": {
      "text/plain": [
       "DecisionTreeClassifier(criterion='entropy')"
      ]
     },
     "execution_count": 7,
     "metadata": {},
     "output_type": "execute_result"
    }
   ],
   "source": [
    "d2 = DecisionTreeClassifier(criterion = 'entropy')\n",
    "d2.fit(X_train, y_train)"
   ]
  },
  {
   "cell_type": "code",
   "execution_count": null,
   "id": "4e067ee3",
   "metadata": {},
   "outputs": [],
   "source": [
    "cvs = cross_val_score(reg1,X_train,y_train,cv=folds,scoring = 'accuracy')\n"
   ]
  }
 ],
 "metadata": {
  "kernelspec": {
   "display_name": "Python 3",
   "language": "python",
   "name": "python3"
  },
  "language_info": {
   "codemirror_mode": {
    "name": "ipython",
    "version": 3
   },
   "file_extension": ".py",
   "mimetype": "text/x-python",
   "name": "python",
   "nbconvert_exporter": "python",
   "pygments_lexer": "ipython3",
   "version": "3.8.8"
  }
 },
 "nbformat": 4,
 "nbformat_minor": 5
}
